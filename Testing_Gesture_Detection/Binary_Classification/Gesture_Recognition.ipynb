{
  "nbformat": 4,
  "nbformat_minor": 0,
  "metadata": {
    "colab": {
      "provenance": []
    },
    "kernelspec": {
      "name": "python3",
      "display_name": "Python 3"
    },
    "language_info": {
      "name": "python"
    }
  },
  "cells": [
    {
      "cell_type": "code",
      "execution_count": 1,
      "metadata": {
        "id": "eXeQuRUluHw_"
      },
      "outputs": [],
      "source": [
        "import pandas as pd\n",
        "import numpy as np\n",
        "from sklearn.preprocessing import OneHotEncoder , StandardScaler , LabelEncoder\n",
        "from sklearn.ensemble import RandomForestClassifier\n",
        "from sklearn.linear_model import LogisticRegression\n",
        "from sklearn.model_selection import train_test_split\n",
        "from sklearn.svm import SVC"
      ]
    },
    {
      "cell_type": "code",
      "source": [
        "df1 = pd.read_csv('Back.csv')\n",
        "\n",
        "df2 = pd.read_csv('Front.csv')\n",
        "\n",
        "data = pd.concat([df1 , df2] , axis = 0)\n",
        "\n",
        "data"
      ],
      "metadata": {
        "id": "jAs3rxlHu0vy"
      },
      "execution_count": null,
      "outputs": []
    },
    {
      "cell_type": "code",
      "source": [
        "features = data.drop(\"label\" , axis = 1).to_numpy()\n",
        "labels = data[\"label\"].to_numpy()\n",
        "\n",
        "true_classifier = LogisticRegression()\n",
        "\n",
        "# Train the classifier on the training data.\n",
        "true_classifier.fit(features , labels)"
      ],
      "metadata": {
        "id": "7EzHIbNAvNN_"
      },
      "execution_count": null,
      "outputs": []
    },
    {
      "cell_type": "code",
      "source": [
        "pred = true_classifier.predict_proba(data.drop(\"label\" , axis = 1))\n",
        "pred = pred[:, [1]]\n",
        "\n",
        "for i in range(len(pred)):\n",
        "  print(i , pred[i])"
      ],
      "metadata": {
        "id": "ydEHdhHkxRLh"
      },
      "execution_count": null,
      "outputs": []
    },
    {
      "cell_type": "code",
      "source": [
        "!pip install micromlgen\n"
      ],
      "metadata": {
        "id": "KKSaAA782mo_"
      },
      "execution_count": null,
      "outputs": []
    },
    {
      "cell_type": "code",
      "source": [
        "from micromlgen import port\n"
      ],
      "metadata": {
        "id": "3e_aXWA92wmg"
      },
      "execution_count": 21,
      "outputs": []
    },
    {
      "cell_type": "code",
      "source": [
        "Labels = ['Back' , 'Front']\n",
        "classMap = {}\n",
        "\n",
        "for i, label in zip(range(2), Labels):\n",
        "  classMap[i] = label\n",
        "\n",
        "print(classMap)"
      ],
      "metadata": {
        "colab": {
          "base_uri": "https://localhost:8080/"
        },
        "id": "U_iXBOZu24u4",
        "outputId": "aee2e28f-8c80-4214-b355-0f2453926a60"
      },
      "execution_count": 24,
      "outputs": [
        {
          "output_type": "stream",
          "name": "stdout",
          "text": [
            "{0: 'Back', 1: 'Front'}\n"
          ]
        }
      ]
    },
    {
      "cell_type": "code",
      "source": [
        "c_code = port(true_classifier, classmap = classMap)\n",
        "\n",
        "mfile = open(\"model.h\" , \"w\")\n",
        "mfile.write(c_code)\n",
        "mfile.close()"
      ],
      "metadata": {
        "id": "pSCqOJ5A4I6D"
      },
      "execution_count": 25,
      "outputs": []
    }
  ]
}