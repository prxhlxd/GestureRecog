{
  "nbformat": 4,
  "nbformat_minor": 0,
  "metadata": {
    "colab": {
      "provenance": []
    },
    "kernelspec": {
      "name": "python3",
      "display_name": "Python 3"
    },
    "language_info": {
      "name": "python"
    }
  },
  "cells": [
    {
      "cell_type": "code",
      "execution_count": 2,
      "metadata": {
        "id": "sJXlRxoGoM3T"
      },
      "outputs": [],
      "source": [
        "import pandas as pd\n",
        "import numpy as np\n",
        "from sklearn.preprocessing import OneHotEncoder , StandardScaler , LabelEncoder\n",
        "from sklearn.ensemble import RandomForestClassifier\n",
        "from sklearn.linear_model import LogisticRegression\n",
        "from sklearn.model_selection import train_test_split\n",
        "from sklearn.svm import SVC"
      ]
    },
    {
      "cell_type": "code",
      "source": [
        "df1 = pd.read_csv('Back.csv')\n",
        "df2 = pd.read_csv('Front.csv')\n",
        "df3 = pd.read_csv('Left.csv')\n",
        "df4 = pd.read_csv('Right.csv')\n",
        "df5 = pd.read_csv('Stable.csv')\n",
        "\n",
        "data = pd.concat([df1 , df2 , df3 , df4 , df5] , axis = 0)\n",
        "\n",
        "data"
      ],
      "metadata": {
        "id": "yxUp9hIwrWN0"
      },
      "execution_count": null,
      "outputs": []
    },
    {
      "cell_type": "code",
      "source": [
        "def fit_svc(X, y):\n",
        "    if len(np.unique(y)) > 2:\n",
        "        # One-vs-rest SVC for multiple classes\n",
        "        svc = SVC(kernel='linear', probability=True , gamma = 0.001)\n",
        "    else:\n",
        "        # Linear SVC for binary classification\n",
        "        svc = SVC(kernel='linear', probability=True , gamma = 0.001)\n",
        "\n",
        "    svc.fit(X, y)\n",
        "    return svc"
      ],
      "metadata": {
        "id": "wNWX07BNvNiz"
      },
      "execution_count": 14,
      "outputs": []
    },
    {
      "cell_type": "code",
      "source": [
        "features = data.drop(\"label\" , axis = 1).to_numpy()\n",
        "labels = data[\"label\"].to_numpy()\n",
        "\n",
        "# Create a support vector machine classifier\n",
        "true_classifier = fit_svc(features , labels)"
      ],
      "metadata": {
        "id": "EGlnR4A0ts6y"
      },
      "execution_count": 15,
      "outputs": []
    },
    {
      "cell_type": "code",
      "source": [
        "!pip install micromlgen\n",
        "from micromlgen import port\n"
      ],
      "metadata": {
        "colab": {
          "base_uri": "https://localhost:8080/"
        },
        "id": "dwAyRMsdwMWl",
        "outputId": "855487a9-2817-440b-9288-3df4c78dfa20"
      },
      "execution_count": 18,
      "outputs": [
        {
          "output_type": "stream",
          "name": "stdout",
          "text": [
            "Requirement already satisfied: micromlgen in /usr/local/lib/python3.10/dist-packages (1.1.28)\n",
            "Requirement already satisfied: jinja2 in /usr/local/lib/python3.10/dist-packages (from micromlgen) (3.1.2)\n",
            "Requirement already satisfied: MarkupSafe>=2.0 in /usr/local/lib/python3.10/dist-packages (from jinja2->micromlgen) (2.1.3)\n"
          ]
        }
      ]
    },
    {
      "cell_type": "code",
      "source": [
        "\n",
        "Labels = ['Back' , 'Front' , 'Left' , 'Right' , 'Stable']\n",
        "classMap = {}\n",
        "\n",
        "for i, label in zip(range(5), Labels):\n",
        "  classMap[i] = label\n",
        "\n",
        "print(classMap)"
      ],
      "metadata": {
        "colab": {
          "base_uri": "https://localhost:8080/"
        },
        "id": "slKbUL1dt1Ni",
        "outputId": "5a067200-65a6-4d83-fb71-3309192638f4"
      },
      "execution_count": 19,
      "outputs": [
        {
          "output_type": "stream",
          "name": "stdout",
          "text": [
            "{0: 'Back', 1: 'Front', 2: 'Left', 3: 'Right', 4: 'Stable'}\n"
          ]
        }
      ]
    },
    {
      "cell_type": "code",
      "source": [
        "c_code = port(true_classifier, classmap = classMap)\n",
        "\n",
        "mfile = open(\"model_multiclass.h\" , \"w\")\n",
        "mfile.write(c_code)\n",
        "mfile.close()"
      ],
      "metadata": {
        "id": "dHLW_YILuGV2"
      },
      "execution_count": 20,
      "outputs": []
    }
  ]
}